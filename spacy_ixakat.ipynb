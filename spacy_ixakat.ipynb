{
  "nbformat":4,
  "nbformat_minor":0,
  "metadata":{
    "colab":{ "name":"spaCy-ixaKat on Google Colaboratory" },
    "kernelspec":{ "name":"python3" }
  },
  "cells":[
    {
      "cell_type":"markdown",
      "metadata":{ "colab_type":"text" },
      "source":[
        "# [spaCy-ixaKat](https://github.com/KoichiYasuoka/spaCy-ixaKat) on Google Colaboratory"
      ]
    },
    {
      "cell_type":"code",
      "metadata":{ "colab_type":"code" },
      "source":[
        "!apt install default-jre-headless curl libncursesw5\n",
        "!pip install spacy_ixakat\n",
        "import spacy_ixakat\n",
        "nlp=spacy_ixakat.load()\n",
        "doc=nlp(\"Euskaldun izatea lan extra bat izatea da.\")\n",
        "import deplacy\n",
        "deplacy.render(doc)\n",
        "deplacy.serve(doc,port=None)\n",
        "# import graphviz\n",
        "# graphviz.Source(deplacy.dot(doc))"
      ],
      "outputs":[
        {
          "output_type":"stream",
          "text":[
            "Euskaldun PROPN <╗           obl\n",
            "izatea    VERB  ═╝<══════╗   csubj\n",
            "lan       NOUN  ═╗═╗<╗   ║   obl\n",
            "extra     NOUN  <╝ ║ ║   ║   nmod\n",
            "bat       NUM   <══╝ ║   ║   nummod\n",
            "izatea    VERB  ═════╝<╗ ║   ccomp\n",
            "da        VERB  ═══════╝═╝═╗ ROOT\n",
            ".         PUNCT <══════════╝ punct\n",
            "\n"
          ]
        },
        {
          "output_type":"display_data",
          "data":{
            "text/html":[
              "<iframe width=\"100%\" height=\"400\" src=\"https://koichiyasuoka.github.io/deplacy/deplacy/editor.html#1%09Euskaldun%09euskaldun%09PROPN%09ADJ%09_%092%09obl%09_%09Translit%3Deuskaldun%0A2%09izatea%09izan%09VERB%09ADI_SIN%09_%097%09csubj%09_%09_%0A3%09lan%09lan%09NOUN%09IZE_ARR%09_%096%09obl%09_%09_%0A4%09extra%09extra%09NOUN%09ADJ%09_%093%09nmod%09_%09_%0A5%09bat%09bat%09NUM%09DET_DZH%09_%093%09nummod%09_%09_%0A6%09izatea%09izate%09VERB%09IZE_ARR%09_%097%09ccomp%09_%09_%0A7%09da%09izan%09VERB%09ADT%09_%090%09ROOT%09_%09SpaceAfter%3DNo%0A8%09.%09.%09PUNCT%09PUNT_PUNT%09_%097%09punct%09_%09_%0A%0A\" frameborder=\"0\" allowfullscreen></iframe>\n"
            ]
          }
        }
      ]
    },
    {
      "cell_type":"code",
      "metadata":{ "colab_type":"code" },
      "source":[
        "!apt install default-jre-headless curl libncursesw5\n",
        "!pip install spacy_ixakat\n",
        "import spacy_ixakat\n",
        "nlp=spacy_ixakat.load(convUD=False)\n",
        "doc=nlp(\"Euskaldun izatea lan extra bat izatea da.\")\n",
        "import deplacy\n",
        "deplacy.render(doc)\n",
        "deplacy.serve(doc,port=None)\n",
        "# import graphviz\n",
        "# graphviz.Source(deplacy.dot(doc))"
      ],
      "outputs":[
        {
          "output_type":"stream",
          "text":[
            "Euskaldun ADJ  <╗         ncmod\n",
            "izatea    ADI  ═╝<══════╗ xcomp_subj\n",
            "lan       IZE  ═╗═╗<╗   ║ ncmod\n",
            "extra     ADJ  <╝ ║ ║   ║ ncmod\n",
            "bat       DET  <══╝ ║   ║ detmod\n",
            "izatea    IZE  ═════╝<╗ ║ ncpred\n",
            "da        ADT  ═╗═════╝═╝ ROOT\n",
            ".         PUNT <╝         PUNC\n",
            "\n"
          ]
        },
        {
          "output_type":"display_data",
          "data":{
            "text/html":[
              "<iframe width=\"100%\" height=\"400\" src=\"https://koichiyasuoka.github.io/deplacy/deplacy/editor.html#1%09Euskaldun%09euskaldun%09ADJ%09ADJ%09KAS%3DZERO%7CCLUSTER%3D01010111%7CCLUSTERM%3D0101%7CATZIZKIA%3DNull%092%09ncmod%09_%09_%0A2%09izatea%09izan%09ADI%09ADI_SIN%09KAS%3DABS%7CERL%3DKONPL%7CADM%3DADIZE%7CCLUSTER%3D0110100%7CCLUSTERM%3D0110%7CATZIZKIA%3DNull%097%09xcomp_subj%09_%09_%0A3%09lan%09lan%09IZE%09IZE_ARR%09KAS%3DZERO%7CCLUSTER%3D1011110111010%7CCLUSTERM%3D1011%7CATZIZKIA%3DNull%096%09ncmod%09_%09_%0A4%09extra%09extra%09ADJ%09ADJ%09KAS%3DZERO%7CCLUSTER%3D01111110100%7CCLUSTERM%3D0111%7CATZIZKIA%3DNull%093%09ncmod%09_%09_%0A5%09bat%09bat%09DET%09DET_DZH%09CLUSTER%3D1011010%7CCLUSTERM%3D1011%7CATZIZKIA%3DNull%093%09detmod%09_%09_%0A6%09izatea%09izate%09IZE%09IZE_ARR%09KAS%3DABS%7CNUM%3DS%7CCLUSTER%3D0110100%7CCLUSTERM%3D0110%7CATZIZKIA%3Da%097%09ncpred%09_%09_%0A7%09da%09izan%09ADT%09ADT%09ASP%3DPNT%7CMDN%3DA1%7CDADUDIO%3DNOR%7CNOR%3DHURA%7CCLUSTER%3D0110100%7CCLUSTERM%3D0110%7CATZIZKIA%3DNull%090%09ROOT%09_%09SpaceAfter%3DNo%0A8%09.%09.%09PUNT%09PUNT_PUNT%09_%097%09PUNC%09_%09_%0A%0A\" frameborder=\"0\" allowfullscreen></iframe>\n"
            ]
          }
        }
      ]
    }
  ]
}
