{
  "nbformat":4,
  "nbformat_minor":0,
  "metadata":{
    "colab":{ "name":"spaCy-ixaKat on Google Colaboratory" },
    "kernelspec":{ "name":"python3" }
  },
  "cells":[
    {
      "cell_type":"markdown",
      "metadata":{ "colab_type":"text" },
      "source":[
        "# [spaCy-ixaKat](https://github.com/KoichiYasuoka/spaCy-ixaKat) on Google Colaboratory"
      ]
    },
    {
      "cell_type":"code",
      "metadata":{ "colab_type":"code" },
      "source":[
        "!pip install spacy_ixakat\n",
        "import spacy_ixakat\n",
        "nlp=spacy_ixakat.load()\n",
        "doc=nlp(\"Euskaldun izatea lan extra bat izatea da.\")\n",
        "import deplacy\n",
        "deplacy.render(doc)\n",
        "deplacy.serve(doc,port=None)\n",
        "# import graphviz\n",
        "# graphviz.Source(deplacy.dot(doc))"
      ],
      "outputs":[
        {
          "output_type":"stream",
          "text":[
            "Euskaldun PROPN <╗           obl\n",
            "izatea    VERB  ═╝<══════╗   csubj\n",
            "lan       NOUN  ═╗═╗<╗   ║   obl\n",
            "extra     NOUN  <╝ ║ ║   ║   nmod\n",
            "bat       NUM   <══╝ ║   ║   nummod\n",
            "izatea    VERB  ═════╝<╗ ║   ccomp\n",
            "da        VERB  ═══════╝═╝═╗ ROOT\n",
            ".         PUNCT <══════════╝ punct\n",
            "\n"
          ]
        },
        {
          "output_type":"display_data",
          "data":{
            "text/html":[
              "<iframe width=\"100%\" height=\"400\" src=\"https://koichiyasuoka.github.io/deplacy/deplacy/editor.html#1%09Euskaldun%09euskaldun%09PROPN%09ADJ%09_%092%09obl%09_%09Translit%3Deuskaldun%0A2%09izatea%09izan%09VERB%09ADI_SIN%09_%097%09csubj%09_%09_%0A3%09lan%09lan%09NOUN%09IZE_ARR%09_%096%09obl%09_%09_%0A4%09extra%09extra%09NOUN%09ADJ%09_%093%09nmod%09_%09_%0A5%09bat%09bat%09NUM%09DET_DZH%09_%093%09nummod%09_%09_%0A6%09izatea%09izate%09VERB%09IZE_ARR%09_%097%09ccomp%09_%09_%0A7%09da%09izan%09VERB%09ADT%09_%090%09ROOT%09_%09SpaceAfter%3DNo%0A8%09.%09.%09PUNCT%09PUNT_PUNT%09_%097%09punct%09_%09_%0A%0A" frameborder=\"0\" allowfullscreen></iframe>\n"
            ]
          }
        }
      ]
    }
  ]
}
